{
 "cells": [
  {
   "cell_type": "code",
   "execution_count": 1,
   "id": "bff03aad",
   "metadata": {
    "_cell_guid": "b1076dfc-b9ad-4769-8c92-a6c4dae69d19",
    "_uuid": "8f2839f25d086af736a60e9eeb907d3b93b6e0e5",
    "execution": {
     "iopub.execute_input": "2024-02-17T08:44:38.789188Z",
     "iopub.status.busy": "2024-02-17T08:44:38.788541Z",
     "iopub.status.idle": "2024-02-17T08:44:54.272405Z",
     "shell.execute_reply": "2024-02-17T08:44:54.271599Z"
    },
    "papermill": {
     "duration": 15.492524,
     "end_time": "2024-02-17T08:44:54.274844",
     "exception": false,
     "start_time": "2024-02-17T08:44:38.782320",
     "status": "completed"
    },
    "tags": []
   },
   "outputs": [
    {
     "name": "stderr",
     "output_type": "stream",
     "text": [
      "2024-02-17 08:44:43.067165: E external/local_xla/xla/stream_executor/cuda/cuda_dnn.cc:9261] Unable to register cuDNN factory: Attempting to register factory for plugin cuDNN when one has already been registered\n",
      "2024-02-17 08:44:43.067295: E external/local_xla/xla/stream_executor/cuda/cuda_fft.cc:607] Unable to register cuFFT factory: Attempting to register factory for plugin cuFFT when one has already been registered\n",
      "2024-02-17 08:44:43.212244: E external/local_xla/xla/stream_executor/cuda/cuda_blas.cc:1515] Unable to register cuBLAS factory: Attempting to register factory for plugin cuBLAS when one has already been registered\n"
     ]
    }
   ],
   "source": [
    "import pandas as pd\n",
    "import numpy as np\n",
    "import matplotlib.pyplot as plt\n",
    "import seaborn as sns\n",
    "\n",
    "from sklearn.model_selection import train_test_split\n",
    "from sklearn.preprocessing import MinMaxScaler, StandardScaler, RobustScaler, Normalizer\n",
    "from tensorflow.keras.layers import Input, Dense\n",
    "from tensorflow.keras.models import Model\n",
    "from tensorflow.keras import losses\n",
    "from sklearn.metrics import precision_score, recall_score, classification_report\n",
    "\n",
    "import warnings\n",
    "warnings.filterwarnings('ignore')"
   ]
  },
  {
   "cell_type": "code",
   "execution_count": 2,
   "id": "a863d84b",
   "metadata": {
    "execution": {
     "iopub.execute_input": "2024-02-17T08:44:54.285786Z",
     "iopub.status.busy": "2024-02-17T08:44:54.284567Z",
     "iopub.status.idle": "2024-02-17T08:44:54.323589Z",
     "shell.execute_reply": "2024-02-17T08:44:54.322511Z"
    },
    "papermill": {
     "duration": 0.04676,
     "end_time": "2024-02-17T08:44:54.326086",
     "exception": false,
     "start_time": "2024-02-17T08:44:54.279326",
     "status": "completed"
    },
    "tags": []
   },
   "outputs": [],
   "source": [
    "data_set = pd.read_csv('../input/machine-predictive-maintenance-classification/predictive_maintenance.csv')"
   ]
  },
  {
   "cell_type": "code",
   "execution_count": 3,
   "id": "2c13684b",
   "metadata": {
    "execution": {
     "iopub.execute_input": "2024-02-17T08:44:54.335949Z",
     "iopub.status.busy": "2024-02-17T08:44:54.335578Z",
     "iopub.status.idle": "2024-02-17T08:44:54.371321Z",
     "shell.execute_reply": "2024-02-17T08:44:54.370326Z"
    },
    "papermill": {
     "duration": 0.042907,
     "end_time": "2024-02-17T08:44:54.373326",
     "exception": false,
     "start_time": "2024-02-17T08:44:54.330419",
     "status": "completed"
    },
    "tags": []
   },
   "outputs": [
    {
     "name": "stdout",
     "output_type": "stream",
     "text": [
      "<class 'pandas.core.frame.DataFrame'>\n",
      "RangeIndex: 10000 entries, 0 to 9999\n",
      "Data columns (total 10 columns):\n",
      " #   Column                   Non-Null Count  Dtype  \n",
      "---  ------                   --------------  -----  \n",
      " 0   UDI                      10000 non-null  int64  \n",
      " 1   Product ID               10000 non-null  object \n",
      " 2   Type                     10000 non-null  object \n",
      " 3   Air temperature [K]      10000 non-null  float64\n",
      " 4   Process temperature [K]  10000 non-null  float64\n",
      " 5   Rotational speed [rpm]   10000 non-null  int64  \n",
      " 6   Torque [Nm]              10000 non-null  float64\n",
      " 7   Tool wear [min]          10000 non-null  int64  \n",
      " 8   Target                   10000 non-null  int64  \n",
      " 9   Failure Type             10000 non-null  object \n",
      "dtypes: float64(3), int64(4), object(3)\n",
      "memory usage: 781.4+ KB\n"
     ]
    }
   ],
   "source": [
    "data_set.info()"
   ]
  },
  {
   "cell_type": "code",
   "execution_count": 4,
   "id": "83a07787",
   "metadata": {
    "execution": {
     "iopub.execute_input": "2024-02-17T08:44:54.383956Z",
     "iopub.status.busy": "2024-02-17T08:44:54.383054Z",
     "iopub.status.idle": "2024-02-17T08:44:54.409143Z",
     "shell.execute_reply": "2024-02-17T08:44:54.407894Z"
    },
    "papermill": {
     "duration": 0.033713,
     "end_time": "2024-02-17T08:44:54.411444",
     "exception": false,
     "start_time": "2024-02-17T08:44:54.377731",
     "status": "completed"
    },
    "tags": []
   },
   "outputs": [
    {
     "name": "stdout",
     "output_type": "stream",
     "text": [
      "<class 'pandas.core.frame.DataFrame'>\n",
      "RangeIndex: 10000 entries, 0 to 9999\n",
      "Data columns (total 9 columns):\n",
      " #   Column                   Non-Null Count  Dtype  \n",
      "---  ------                   --------------  -----  \n",
      " 0   Air temperature [K]      10000 non-null  float64\n",
      " 1   Process temperature [K]  10000 non-null  float64\n",
      " 2   Rotational speed [rpm]   10000 non-null  float64\n",
      " 3   Torque [Nm]              10000 non-null  float64\n",
      " 4   Tool wear [min]          10000 non-null  float64\n",
      " 5   Target                   10000 non-null  int64  \n",
      " 6   Type_H                   10000 non-null  float64\n",
      " 7   Type_L                   10000 non-null  float64\n",
      " 8   Type_M                   10000 non-null  float64\n",
      "dtypes: float64(8), int64(1)\n",
      "memory usage: 703.2 KB\n"
     ]
    }
   ],
   "source": [
    "# ワンホットエンコーディング\n",
    "data = pd.get_dummies(data_set.loc[:, 'Type':'Target'], dtype='float64')\n",
    "\n",
    "# スケール化\n",
    "data.loc[:, 'Air temperature [K]':'Tool wear [min]'] = MinMaxScaler().fit_transform(data.loc[:, 'Air temperature [K]':'Tool wear [min]'])\n",
    "\n",
    "data.info()"
   ]
  },
  {
   "cell_type": "code",
   "execution_count": 5,
   "id": "8f1bc61f",
   "metadata": {
    "execution": {
     "iopub.execute_input": "2024-02-17T08:44:54.422338Z",
     "iopub.status.busy": "2024-02-17T08:44:54.421451Z",
     "iopub.status.idle": "2024-02-17T08:44:54.433722Z",
     "shell.execute_reply": "2024-02-17T08:44:54.432773Z"
    },
    "papermill": {
     "duration": 0.019752,
     "end_time": "2024-02-17T08:44:54.435668",
     "exception": false,
     "start_time": "2024-02-17T08:44:54.415916",
     "status": "completed"
    },
    "tags": []
   },
   "outputs": [
    {
     "name": "stdout",
     "output_type": "stream",
     "text": [
      "train: [8694]\n",
      "test:  [967 339]\n"
     ]
    }
   ],
   "source": [
    "# Target==0/1データに分割\n",
    "data_0 = data[data.Target == 0]\n",
    "data_1 = data[data.Target == 1]\n",
    "\n",
    "# 訓練/テストに分割\n",
    "train, test = train_test_split(data_0, train_size=0.9, random_state=42)\n",
    "test = pd.concat([test, data_1])\n",
    "\n",
    "print('train: {}'.format(np.bincount(np.array(train['Target']))))\n",
    "print('test:  {}'.format(np.bincount(np.array(test['Target']))))"
   ]
  },
  {
   "cell_type": "code",
   "execution_count": 6,
   "id": "a19326e5",
   "metadata": {
    "execution": {
     "iopub.execute_input": "2024-02-17T08:44:54.446367Z",
     "iopub.status.busy": "2024-02-17T08:44:54.445834Z",
     "iopub.status.idle": "2024-02-17T08:44:54.452402Z",
     "shell.execute_reply": "2024-02-17T08:44:54.451669Z"
    },
    "papermill": {
     "duration": 0.014087,
     "end_time": "2024-02-17T08:44:54.454339",
     "exception": false,
     "start_time": "2024-02-17T08:44:54.440252",
     "status": "completed"
    },
    "tags": []
   },
   "outputs": [],
   "source": [
    "# 訓練データを特徴量/ターゲットに分割\n",
    "X_train = train.drop(['Target'], axis=1)\n",
    "y_train = pd.DataFrame(train.Target)\n",
    "\n",
    "# テストデータを特徴量/ターゲットに分割\n",
    "X_test = test.drop(['Target'], axis=1)\n",
    "y_test = pd.DataFrame(test.Target)"
   ]
  },
  {
   "cell_type": "markdown",
   "id": "741e23c2",
   "metadata": {
    "papermill": {
     "duration": 0.004114,
     "end_time": "2024-02-17T08:44:54.462963",
     "exception": false,
     "start_time": "2024-02-17T08:44:54.458849",
     "status": "completed"
    },
    "tags": []
   },
   "source": [
    "# オートエンコーダ 実装～予測(異常検知)"
   ]
  },
  {
   "cell_type": "code",
   "execution_count": 7,
   "id": "bf2d0673",
   "metadata": {
    "execution": {
     "iopub.execute_input": "2024-02-17T08:44:54.473618Z",
     "iopub.status.busy": "2024-02-17T08:44:54.472984Z",
     "iopub.status.idle": "2024-02-17T08:44:54.570592Z",
     "shell.execute_reply": "2024-02-17T08:44:54.569787Z"
    },
    "papermill": {
     "duration": 0.105434,
     "end_time": "2024-02-17T08:44:54.572799",
     "exception": false,
     "start_time": "2024-02-17T08:44:54.467365",
     "status": "completed"
    },
    "tags": []
   },
   "outputs": [],
   "source": [
    "# モデル定義\n",
    "inp = Input(shape=(X_train.shape[1],))\n",
    "encoded = Dense(4, activation='relu')(inp)\n",
    "decoded = Dense(8, activation='relu')(encoded)"
   ]
  },
  {
   "cell_type": "code",
   "execution_count": 8,
   "id": "b8d570e3",
   "metadata": {
    "execution": {
     "iopub.execute_input": "2024-02-17T08:44:54.586419Z",
     "iopub.status.busy": "2024-02-17T08:44:54.586040Z",
     "iopub.status.idle": "2024-02-17T08:44:54.616953Z",
     "shell.execute_reply": "2024-02-17T08:44:54.615948Z"
    },
    "papermill": {
     "duration": 0.040235,
     "end_time": "2024-02-17T08:44:54.619487",
     "exception": false,
     "start_time": "2024-02-17T08:44:54.579252",
     "status": "completed"
    },
    "tags": []
   },
   "outputs": [],
   "source": [
    "# モデルコンパイル\n",
    "autoencoder = Model(inp, decoded)\n",
    "autoencoder.compile(optimizer='adam', loss=losses.MeanSquaredError()) # Optimizers:Adamアルゴリズム, 損失関数:平均二乗誤差"
   ]
  },
  {
   "cell_type": "code",
   "execution_count": 9,
   "id": "230c8995",
   "metadata": {
    "execution": {
     "iopub.execute_input": "2024-02-17T08:44:54.630746Z",
     "iopub.status.busy": "2024-02-17T08:44:54.629711Z",
     "iopub.status.idle": "2024-02-17T08:44:58.212317Z",
     "shell.execute_reply": "2024-02-17T08:44:58.211214Z"
    },
    "papermill": {
     "duration": 3.590547,
     "end_time": "2024-02-17T08:44:58.214523",
     "exception": false,
     "start_time": "2024-02-17T08:44:54.623976",
     "status": "completed"
    },
    "tags": []
   },
   "outputs": [
    {
     "name": "stdout",
     "output_type": "stream",
     "text": [
      "Epoch 1/50\n",
      "34/34 [==============================] - 1s 2ms/step - loss: 0.0074\n",
      "Epoch 2/50\n",
      "34/34 [==============================] - 0s 1ms/step - loss: 0.0019\n",
      "Epoch 3/50\n",
      "34/34 [==============================] - 0s 1ms/step - loss: 6.5869e-04\n",
      "Epoch 4/50\n",
      "34/34 [==============================] - 0s 2ms/step - loss: 3.0991e-04\n",
      "Epoch 5/50\n",
      "34/34 [==============================] - 0s 2ms/step - loss: 1.6760e-04\n",
      "Epoch 6/50\n",
      "34/34 [==============================] - 0s 1ms/step - loss: 9.8220e-05\n",
      "Epoch 7/50\n",
      "34/34 [==============================] - 0s 1ms/step - loss: 6.1301e-05\n",
      "Epoch 8/50\n",
      "34/34 [==============================] - 0s 1ms/step - loss: 4.0103e-05\n",
      "Epoch 9/50\n",
      "34/34 [==============================] - 0s 2ms/step - loss: 2.7522e-05\n",
      "Epoch 10/50\n",
      "34/34 [==============================] - 0s 1ms/step - loss: 1.9490e-05\n",
      "Epoch 11/50\n",
      "34/34 [==============================] - 0s 1ms/step - loss: 1.4227e-05\n",
      "Epoch 12/50\n",
      "34/34 [==============================] - 0s 1ms/step - loss: 1.0644e-05\n",
      "Epoch 13/50\n",
      "34/34 [==============================] - 0s 2ms/step - loss: 8.1438e-06\n",
      "Epoch 14/50\n",
      "34/34 [==============================] - 0s 1ms/step - loss: 6.3352e-06\n",
      "Epoch 15/50\n",
      "34/34 [==============================] - 0s 1ms/step - loss: 5.0263e-06\n",
      "Epoch 16/50\n",
      "34/34 [==============================] - 0s 2ms/step - loss: 4.0454e-06\n",
      "Epoch 17/50\n",
      "34/34 [==============================] - 0s 2ms/step - loss: 3.3113e-06\n",
      "Epoch 18/50\n",
      "34/34 [==============================] - 0s 1ms/step - loss: 2.7305e-06\n",
      "Epoch 19/50\n",
      "34/34 [==============================] - 0s 2ms/step - loss: 2.2787e-06\n",
      "Epoch 20/50\n",
      "34/34 [==============================] - 0s 1ms/step - loss: 1.9195e-06\n",
      "Epoch 21/50\n",
      "34/34 [==============================] - 0s 2ms/step - loss: 1.6271e-06\n",
      "Epoch 22/50\n",
      "34/34 [==============================] - 0s 2ms/step - loss: 1.3900e-06\n",
      "Epoch 23/50\n",
      "34/34 [==============================] - 0s 2ms/step - loss: 1.1981e-06\n",
      "Epoch 24/50\n",
      "34/34 [==============================] - 0s 1ms/step - loss: 1.0387e-06\n",
      "Epoch 25/50\n",
      "34/34 [==============================] - 0s 1ms/step - loss: 9.0221e-07\n",
      "Epoch 26/50\n",
      "34/34 [==============================] - 0s 1ms/step - loss: 7.9361e-07\n",
      "Epoch 27/50\n",
      "34/34 [==============================] - 0s 1ms/step - loss: 6.9424e-07\n",
      "Epoch 28/50\n",
      "34/34 [==============================] - 0s 1ms/step - loss: 6.1459e-07\n",
      "Epoch 29/50\n",
      "34/34 [==============================] - 0s 2ms/step - loss: 5.4580e-07\n",
      "Epoch 30/50\n",
      "34/34 [==============================] - 0s 2ms/step - loss: 4.8572e-07\n",
      "Epoch 31/50\n",
      "34/34 [==============================] - 0s 1ms/step - loss: 4.3500e-07\n",
      "Epoch 32/50\n",
      "34/34 [==============================] - 0s 2ms/step - loss: 3.9044e-07\n",
      "Epoch 33/50\n",
      "34/34 [==============================] - 0s 1ms/step - loss: 3.5139e-07\n",
      "Epoch 34/50\n",
      "34/34 [==============================] - 0s 1ms/step - loss: 3.1690e-07\n",
      "Epoch 35/50\n",
      "34/34 [==============================] - 0s 2ms/step - loss: 2.8821e-07\n",
      "Epoch 36/50\n",
      "34/34 [==============================] - 0s 2ms/step - loss: 2.6159e-07\n",
      "Epoch 37/50\n",
      "34/34 [==============================] - 0s 2ms/step - loss: 2.3831e-07\n",
      "Epoch 38/50\n",
      "34/34 [==============================] - 0s 1ms/step - loss: 2.1725e-07\n",
      "Epoch 39/50\n",
      "34/34 [==============================] - 0s 2ms/step - loss: 1.9925e-07\n",
      "Epoch 40/50\n",
      "34/34 [==============================] - 0s 2ms/step - loss: 1.8299e-07\n",
      "Epoch 41/50\n",
      "34/34 [==============================] - 0s 1ms/step - loss: 1.6820e-07\n",
      "Epoch 42/50\n",
      "34/34 [==============================] - 0s 1ms/step - loss: 1.5489e-07\n",
      "Epoch 43/50\n",
      "34/34 [==============================] - 0s 2ms/step - loss: 1.4332e-07\n",
      "Epoch 44/50\n",
      "34/34 [==============================] - 0s 2ms/step - loss: 1.3236e-07\n",
      "Epoch 45/50\n",
      "34/34 [==============================] - 0s 1ms/step - loss: 1.2277e-07\n",
      "Epoch 46/50\n",
      "34/34 [==============================] - 0s 2ms/step - loss: 1.1405e-07\n",
      "Epoch 47/50\n",
      "34/34 [==============================] - 0s 2ms/step - loss: 1.0603e-07\n",
      "Epoch 48/50\n",
      "34/34 [==============================] - 0s 2ms/step - loss: 9.8524e-08\n",
      "Epoch 49/50\n",
      "34/34 [==============================] - 0s 2ms/step - loss: 9.1958e-08\n",
      "Epoch 50/50\n",
      "34/34 [==============================] - 0s 2ms/step - loss: 8.5786e-08\n"
     ]
    },
    {
     "data": {
      "text/plain": [
       "<keras.src.callbacks.History at 0x7b75375b8e80>"
      ]
     },
     "execution_count": 9,
     "metadata": {},
     "output_type": "execute_result"
    }
   ],
   "source": [
    "# モデル学習\n",
    "autoencoder.fit(X_train, y_train, epochs=50, batch_size=256, shuffle=True)"
   ]
  },
  {
   "cell_type": "code",
   "execution_count": 10,
   "id": "b43711b7",
   "metadata": {
    "execution": {
     "iopub.execute_input": "2024-02-17T08:44:58.247577Z",
     "iopub.status.busy": "2024-02-17T08:44:58.246498Z",
     "iopub.status.idle": "2024-02-17T08:44:58.815912Z",
     "shell.execute_reply": "2024-02-17T08:44:58.814961Z"
    },
    "papermill": {
     "duration": 0.588473,
     "end_time": "2024-02-17T08:44:58.818446",
     "exception": false,
     "start_time": "2024-02-17T08:44:58.229973",
     "status": "completed"
    },
    "tags": []
   },
   "outputs": [
    {
     "name": "stdout",
     "output_type": "stream",
     "text": [
      "272/272 [==============================] - 0s 1ms/step\n"
     ]
    }
   ],
   "source": [
    "# 訓練データに対する処理\n",
    "decoded_train = autoencoder.predict(X_train) # 訓練データ再構築\n",
    "error_train = np.mean(np.abs(X_train - decoded_train), axis=1) # 構築前データと再構築データとの誤差に対し, 各データポイントごとに誤差平均を求める\n",
    "threshold = np.mean(error_train) # しきい値をすべてのデータポイントの誤差平均の平均とおく"
   ]
  },
  {
   "cell_type": "code",
   "execution_count": 11,
   "id": "249c016b",
   "metadata": {
    "execution": {
     "iopub.execute_input": "2024-02-17T08:44:58.852316Z",
     "iopub.status.busy": "2024-02-17T08:44:58.851910Z",
     "iopub.status.idle": "2024-02-17T08:44:59.009766Z",
     "shell.execute_reply": "2024-02-17T08:44:59.008607Z"
    },
    "papermill": {
     "duration": 0.177099,
     "end_time": "2024-02-17T08:44:59.012254",
     "exception": false,
     "start_time": "2024-02-17T08:44:58.835155",
     "status": "completed"
    },
    "tags": []
   },
   "outputs": [
    {
     "name": "stdout",
     "output_type": "stream",
     "text": [
      "41/41 [==============================] - 0s 1ms/step\n"
     ]
    }
   ],
   "source": [
    "# テストデータに対する処理\n",
    "decoded_test = autoencoder.predict(X_test) # テストデータ再構築\n",
    "error_test = np.mean(np.abs(X_test - decoded_test), axis=1) # 構築前データと再構築データとの誤差に対し, 各データポイントごとに(すべての特徴量の)平均値を求める"
   ]
  },
  {
   "cell_type": "code",
   "execution_count": 12,
   "id": "b982232b",
   "metadata": {
    "execution": {
     "iopub.execute_input": "2024-02-17T08:44:59.045083Z",
     "iopub.status.busy": "2024-02-17T08:44:59.044629Z",
     "iopub.status.idle": "2024-02-17T08:44:59.058491Z",
     "shell.execute_reply": "2024-02-17T08:44:59.057386Z"
    },
    "papermill": {
     "duration": 0.03327,
     "end_time": "2024-02-17T08:44:59.061136",
     "exception": false,
     "start_time": "2024-02-17T08:44:59.027866",
     "status": "completed"
    },
    "tags": []
   },
   "outputs": [
    {
     "name": "stdout",
     "output_type": "stream",
     "text": [
      "recall:     0.844\n",
      "precision:  0.383\n"
     ]
    }
   ],
   "source": [
    "# 異常検知\n",
    "anomalies = error_test > threshold # 再構築したテストデータの誤差がスレッショルド以上なら異常\n",
    "print('recall:     {:.3f}'.format(recall_score(np.array(y_test), np.array(anomalies))))\n",
    "print('precision:  {:.3f}'.format(precision_score(np.array(y_test), np.array(anomalies))))"
   ]
  },
  {
   "cell_type": "code",
   "execution_count": 13,
   "id": "d0c4b8af",
   "metadata": {
    "execution": {
     "iopub.execute_input": "2024-02-17T08:44:59.093730Z",
     "iopub.status.busy": "2024-02-17T08:44:59.093331Z",
     "iopub.status.idle": "2024-02-17T08:44:59.108891Z",
     "shell.execute_reply": "2024-02-17T08:44:59.107715Z"
    },
    "papermill": {
     "duration": 0.034684,
     "end_time": "2024-02-17T08:44:59.111404",
     "exception": false,
     "start_time": "2024-02-17T08:44:59.076720",
     "status": "completed"
    },
    "tags": []
   },
   "outputs": [
    {
     "name": "stdout",
     "output_type": "stream",
     "text": [
      "              precision    recall  f1-score   support\n",
      "\n",
      "           0       0.91      0.52      0.66       967\n",
      "           1       0.38      0.84      0.53       339\n",
      "\n",
      "    accuracy                           0.61      1306\n",
      "   macro avg       0.64      0.68      0.59      1306\n",
      "weighted avg       0.77      0.61      0.63      1306\n",
      "\n"
     ]
    }
   ],
   "source": [
    "# Classification Report\n",
    "print(classification_report(np.array(y_test), np.array(anomalies)))"
   ]
  },
  {
   "cell_type": "code",
   "execution_count": 14,
   "id": "537306af",
   "metadata": {
    "execution": {
     "iopub.execute_input": "2024-02-17T08:44:59.145442Z",
     "iopub.status.busy": "2024-02-17T08:44:59.145021Z",
     "iopub.status.idle": "2024-02-17T08:44:59.151929Z",
     "shell.execute_reply": "2024-02-17T08:44:59.150895Z"
    },
    "papermill": {
     "duration": 0.026468,
     "end_time": "2024-02-17T08:44:59.154018",
     "exception": false,
     "start_time": "2024-02-17T08:44:59.127550",
     "status": "completed"
    },
    "tags": []
   },
   "outputs": [
    {
     "data": {
      "text/plain": [
       "'\\nランダムフォレスト(重み付け)\\n\\n              precision    recall  f1-score   support\\n\\n           0       0.99      0.85      0.92      2907\\n           1       0.15      0.81      0.25        93\\n\\n    accuracy                           0.85      3000\\n   macro avg       0.57      0.83      0.59      3000\\nweighted avg       0.97      0.85      0.90      3000\\n'"
      ]
     },
     "execution_count": 14,
     "metadata": {},
     "output_type": "execute_result"
    }
   ],
   "source": [
    "\"\"\"\n",
    "ランダムフォレスト(重み付け)\n",
    "\n",
    "              precision    recall  f1-score   support\n",
    "\n",
    "           0       0.99      0.85      0.92      2907\n",
    "           1       0.15      0.81      0.25        93\n",
    "\n",
    "    accuracy                           0.85      3000\n",
    "   macro avg       0.57      0.83      0.59      3000\n",
    "weighted avg       0.97      0.85      0.90      3000\n",
    "\"\"\""
   ]
  }
 ],
 "metadata": {
  "kaggle": {
   "accelerator": "none",
   "dataSources": [
    {
     "datasetId": 1697740,
     "sourceId": 2781015,
     "sourceType": "datasetVersion"
    }
   ],
   "dockerImageVersionId": 30646,
   "isGpuEnabled": false,
   "isInternetEnabled": true,
   "language": "python",
   "sourceType": "notebook"
  },
  "kernelspec": {
   "display_name": "Python 3",
   "language": "python",
   "name": "python3"
  },
  "language_info": {
   "codemirror_mode": {
    "name": "ipython",
    "version": 3
   },
   "file_extension": ".py",
   "mimetype": "text/x-python",
   "name": "python",
   "nbconvert_exporter": "python",
   "pygments_lexer": "ipython3",
   "version": "3.10.13"
  },
  "papermill": {
   "default_parameters": {},
   "duration": 24.540782,
   "end_time": "2024-02-17T08:45:00.694884",
   "environment_variables": {},
   "exception": null,
   "input_path": "__notebook__.ipynb",
   "output_path": "__notebook__.ipynb",
   "parameters": {},
   "start_time": "2024-02-17T08:44:36.154102",
   "version": "2.5.0"
  }
 },
 "nbformat": 4,
 "nbformat_minor": 5
}
